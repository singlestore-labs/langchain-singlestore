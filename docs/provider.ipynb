{
 "cells": [
  {
   "cell_type": "markdown",
   "metadata": {},
   "source": [
    "# SingleStore\n",
    "\n",
    ">[SingleStore](https://singlestore.com/) is a robust, high-performance distributed SQL database solution designed to excel in both [cloud](https://www.singlestore.com/cloud/) and on-premises environments. Boasting a versatile feature set, it offers seamless deployment options while delivering unparalleled performance.\n",
    "\n",
    "This integration offers `SingleStoreLoader`, `SingleStoreSemanticCache`, `SingleStoreChatMessageHistory` and `SingleStoreVectorStore` that use SingleStore database as sorage for documents and their embeddings, and explore efficient fultext and vector search for fast queries. "
   ]
  },
  {
   "cell_type": "code",
   "execution_count": null,
   "metadata": {
    "id": "y8ku6X96sebl"
   },
   "outputs": [],
   "source": [
    "from langchain_singlestore import SingleStoreSemanticCache\n",
    "from langchain_singlestore import SingleStoreLoader\n",
    "from langchain_singlestore import SingleStoreChatMessageHistory\n",
    "from langchain_singlestore import SingleStoreVectorStore"
   ]
  }
 ],
 "metadata": {
  "colab": {
   "provenance": []
  },
  "kernelspec": {
   "display_name": "Python 3 (ipykernel)",
   "language": "python",
   "name": "python3"
  },
  "language_info": {
   "codemirror_mode": {
    "name": "ipython",
    "version": 3
   },
   "file_extension": ".py",
   "mimetype": "text/x-python",
   "name": "python",
   "nbconvert_exporter": "python",
   "pygments_lexer": "ipython3",
   "version": "3.10.11"
  }
 },
 "nbformat": 4,
 "nbformat_minor": 1
}
