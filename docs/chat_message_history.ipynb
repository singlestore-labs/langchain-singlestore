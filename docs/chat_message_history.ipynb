{
 "cells": [
  {
   "cell_type": "markdown",
   "id": "e49f1e0d",
   "metadata": {},
   "source": [
    "# SingleStoreChatMessageHistory\n",
    "\n",
    "This example demonstrates how to get started with the SingleStore chat message history.\n",
    "\n",
    "### Integration Overview\n",
    "\n",
    "`SingleStoreChatMessageHistory` stores chat message history directly in SingleStore database.\n",
    "\n",
    "### Integration details\n",
    "\n",
    "\n",
    "\n",
    "| Class | Package | JS support |\n",
    "| :--- | :--- |  :---: |\n",
    "| SingleStoreChatMessageHistory | langchain_singlestore | ❌ | "
   ]
  },
  {
   "cell_type": "markdown",
   "id": "0730d6a1-c893-4840-9817-5e5251676d5d",
   "metadata": {},
   "source": [
    "## Installation\n",
    "\n",
    "This cache lives in the `langchain-singlestore` package:"
   ]
  },
  {
   "cell_type": "code",
   "execution_count": null,
   "id": "652d6238-1f87-422a-b135-f5abbb8652fc",
   "metadata": {},
   "outputs": [],
   "source": [
    "%pip install -qU langchain-singlestore"
   ]
  },
  {
   "cell_type": "markdown",
   "id": "5c5f2839-4020-424e-9fc9-07777eede442",
   "metadata": {},
   "source": [
    "## Usage"
   ]
  },
  {
   "cell_type": "code",
   "execution_count": null,
   "id": "51a60dbe-9f2e-4e04-bb62-23968f17164a",
   "metadata": {},
   "outputs": [],
   "source": [
    "from langchain_singlestore import SingleStoreChatMessageHistory\n",
    "\n",
    "history = SingleStoreChatMessageHistory(\n",
    "    session_id=\"foo\", host=\"root:pass@localhost:3306/db\"\n",
    ")\n",
    "\n",
    "history.add_user_message(\"hi!\")\n",
    "\n",
    "history.add_ai_message(\"whats up?\")"
   ]
  },
  {
   "cell_type": "code",
   "execution_count": null,
   "id": "cddda8ef",
   "metadata": {},
   "outputs": [],
   "source": [
    "history.messages"
   ]
  }
 ],
 "metadata": {
  "kernelspec": {
   "display_name": "langchain-singlestore-BD1RbQ07-py3.11",
   "language": "python",
   "name": "python3"
  },
  "language_info": {
   "codemirror_mode": {
    "name": "ipython",
    "version": 3
   },
   "file_extension": ".py",
   "mimetype": "text/x-python",
   "name": "python",
   "nbconvert_exporter": "python",
   "pygments_lexer": "ipython3",
   "version": "3.11.11"
  }
 },
 "nbformat": 4,
 "nbformat_minor": 5
}
